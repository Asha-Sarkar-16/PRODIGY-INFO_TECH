{
  "nbformat": 4,
  "nbformat_minor": 0,
  "metadata": {
    "colab": {
      "provenance": [],
      "authorship_tag": "ABX9TyND3LmdK8RV4PM4+zgA6ypz",
      "include_colab_link": true
    },
    "kernelspec": {
      "name": "python3",
      "display_name": "Python 3"
    },
    "language_info": {
      "name": "python"
    }
  },
  "cells": [
    {
      "cell_type": "markdown",
      "metadata": {
        "id": "view-in-github",
        "colab_type": "text"
      },
      "source": [
        "<a href=\"https://colab.research.google.com/github/Asha-Sarkar-16/PRODIGY-INFO_TECH/blob/main/Untitled2.ipynb\" target=\"_parent\"><img src=\"https://colab.research.google.com/assets/colab-badge.svg\" alt=\"Open In Colab\"/></a>"
      ]
    },
    {
      "cell_type": "code",
      "execution_count": null,
      "metadata": {
        "id": "YOIH5iIdRMBO"
      },
      "outputs": [],
      "source": [
        "def main():\n",
        "    message = input(\"Enter the message: \")\n",
        "    shift = int(input(\"Enter the shift value: \"))\n",
        "\n",
        "    # Encrypted message\n",
        "    encrypted_message = caesar_cipher(message, shift)\n",
        "    print(\"Encrypted message:\", encrypted_message)\n",
        "\n",
        "    # Decrypted message\n",
        "    decrypted_message = caesar_cipher(encrypted_message, -shift)\n",
        "    print(\"Decrypted message:\", decrypted_message)\n",
        "\n",
        "def caesar_cipher(text, shift):\n",
        "    result = \"\"\n",
        "    for char in text:\n",
        "        if char.isalpha():\n",
        "            is_upper = char.isupper()\n",
        "            shifted_char = chr((ord(char) - ord('A' if is_upper else 'a') + shift) % 26 + ord('A' if is_upper else 'a'))\n",
        "            result += shifted_char\n",
        "        else:\n",
        "            result += char\n",
        "    return result\n",
        "if _name_ == \"_main_\":\n",
        "    main()"
      ]
    }
  ]
}